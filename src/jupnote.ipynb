{
 "cells": [
  {
   "cell_type": "code",
   "execution_count": 1,
   "metadata": {},
   "outputs": [
    {
     "name": "stdout",
     "output_type": "stream",
     "text": [
      "o seu saldo é 2\n"
     ]
    }
   ],
   "source": [
    "saldo = 5\n",
    "valor_requisitado = 3\n",
    "\n",
    "if (saldo>=valor_requisitado):\n",
    "    print(f\"o seu saldo é {saldo - valor_requisitado}\")\n",
    "else:\n",
    "    print(\"saldo insuficiente\")"
   ]
  }
 ],
 "metadata": {
  "kernelspec": {
   "display_name": "Python 3",
   "language": "python",
   "name": "python3"
  },
  "language_info": {
   "codemirror_mode": {
    "name": "ipython",
    "version": 3
   },
   "file_extension": ".py",
   "mimetype": "text/x-python",
   "name": "python",
   "nbconvert_exporter": "python",
   "pygments_lexer": "ipython3",
   "version": "3.11.5"
  }
 },
 "nbformat": 4,
 "nbformat_minor": 2
}
